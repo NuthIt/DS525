{
 "cells": [
  {
   "cell_type": "markdown",
   "id": "e134d351-6667-4bba-9a9e-e89970c40cfb",
   "metadata": {},
   "source": [
    "# Breakfast at the Frat: A Time Series Analysis\n",
    "\n",
    "Sales and promotion information on the top five products from each of the top three brands within four selected categories (mouthwash, pretzels, frozen pizza, and boxed cereal), gathered from a sample of stores over 156 weeks.\n",
    "\n",
    "- Unit sales, households, visits, and spend data by product, store, and week\n",
    "- Base Price and Actual Shelf Price, to determine a product’s discount, if any\n",
    "- Promotional support details (e.g., sale tag, in-store display), if applicable for the given product/store/week\n",
    "- Store information, including size and location, as well as a price tier designation (e.g., upscale vs. value)\n",
    "- Product information, including UPC, size, and description\n",
    "\n",
    "To identify outliers, it is suggested to look at\n",
    "\n",
    "- The ratio of units vs. number of visits\n",
    "- The ratio of visits vs. number of households\n",
    "- Some items that may be out-of-stock or discontinued for a store\n",
    "\n",
    "**Source:** https://www.dunnhumby.com/source-files/"
   ]
  },
  {
   "cell_type": "code",
   "execution_count": 29,
   "id": "b796ca6e-ac95-406d-91fe-1383419620d1",
   "metadata": {},
   "outputs": [],
   "source": [
    "from pyspark.sql import SparkSession"
   ]
  },
  {
   "cell_type": "code",
   "execution_count": 30,
   "id": "268e7e7b-7431-43c0-9b6f-1d50e758b00e",
   "metadata": {},
   "outputs": [],
   "source": [
    "spark = SparkSession.builder \\\n",
    "    .appName(\"breakfast\") \\\n",
    "    .getOrCreate()"
   ]
  },
  {
   "cell_type": "code",
   "execution_count": 31,
   "id": "d66c43ba-edd2-486b-92b4-8a8b1ae3bd7e",
   "metadata": {},
   "outputs": [],
   "source": [
    "product_data_folder = \"dataset/products\"\n",
    "store_data_folder = \"dataset/stores\"\n",
    "transaction_data_folder = \"dataset/transactions\""
   ]
  },
  {
   "cell_type": "code",
   "execution_count": 32,
   "id": "18502401-724d-4279-83d0-faeb988affc5",
   "metadata": {},
   "outputs": [],
   "source": [
    "#Sandbox Session"
   ]
  },
  {
   "cell_type": "markdown",
   "id": "14f9105f-ff68-4a3e-a3a6-3f71fef1ce0b",
   "metadata": {},
   "source": [
    "### Perform ETL to Answer the Following Questions\n",
    "\n",
    "1. What is the range of prices offered on products?\n",
    "1. What is the impact on units/visit of promotions by geographies?\n",
    "1. Which products would you lower the price to increase sales?"
   ]
  },
  {
   "cell_type": "code",
   "execution_count": 33,
   "id": "a5318f01-6ecc-4222-87d1-1198958f8e5e",
   "metadata": {},
   "outputs": [],
   "source": [
    "product_df = spark. \\\n",
    "    read. \\\n",
    "    option(\"header\",True) \\\n",
    "    .csv(product_data_folder)"
   ]
  },
  {
   "cell_type": "code",
   "execution_count": 34,
   "id": "e4a1f3d6-cce4-4077-b4e6-2fbe9265adc9",
   "metadata": {},
   "outputs": [
    {
     "name": "stdout",
     "output_type": "stream",
     "text": [
      "+----------+--------------------+-------------+----------+------------+------------+\n",
      "|       UPC|         DESCRIPTION| MANUFACTURER|  CATEGORY|SUB_CATEGORY|PRODUCT_SIZE|\n",
      "+----------+--------------------+-------------+----------+------------+------------+\n",
      "|1111009477|PL MINI TWIST PRE...|PRIVATE LABEL|BAG SNACKS|    PRETZELS|       15 OZ|\n",
      "+----------+--------------------+-------------+----------+------------+------------+\n",
      "only showing top 1 row\n",
      "\n"
     ]
    }
   ],
   "source": [
    "product_df.show(1)"
   ]
  },
  {
   "cell_type": "code",
   "execution_count": 35,
   "id": "ee90489e-8e82-4ee2-bfd8-750e0c40ac1a",
   "metadata": {},
   "outputs": [
    {
     "name": "stdout",
     "output_type": "stream",
     "text": [
      "+----------+--------------------+-------------+--------------------+--------------------+------------+\n",
      "|       UPC|         DESCRIPTION| MANUFACTURER|            CATEGORY|        SUB_CATEGORY|PRODUCT_SIZE|\n",
      "+----------+--------------------+-------------+--------------------+--------------------+------------+\n",
      "|1111009477|PL MINI TWIST PRE...|PRIVATE LABEL|          BAG SNACKS|            PRETZELS|       15 OZ|\n",
      "|1111009497|   PL PRETZEL STICKS|PRIVATE LABEL|          BAG SNACKS|            PRETZELS|       15 OZ|\n",
      "|1111009507|   PL TWIST PRETZELS|PRIVATE LABEL|          BAG SNACKS|            PRETZELS|       15 OZ|\n",
      "|1111035398|PL BL MINT ANTSPT...|PRIVATE LABEL|ORAL HYGIENE PROD...|MOUTHWASHES (ANTI...|      1.5 LT|\n",
      "|1111038078|PL BL MINT ANTSPT...|PRIVATE LABEL|ORAL HYGIENE PROD...|MOUTHWASHES (ANTI...|      500 ML|\n",
      "|1111038080|PL ANTSPTC SPG MN...|PRIVATE LABEL|ORAL HYGIENE PROD...|MOUTHWASHES (ANTI...|      500 ML|\n",
      "|1111085319|PL HONEY NUT TOAS...|PRIVATE LABEL|         COLD CEREAL|   ALL FAMILY CEREAL|    12.25 OZ|\n",
      "|1111085345|      PL RAISIN BRAN|PRIVATE LABEL|         COLD CEREAL|        ADULT CEREAL|       20 OZ|\n",
      "|1111085350|PL BT SZ FRSTD SH...|PRIVATE LABEL|         COLD CEREAL|   ALL FAMILY CEREAL|       18 OZ|\n",
      "|1111087395|PL SR CRUST SUPRM...|PRIVATE LABEL|        FROZEN PIZZA|       PIZZA/PREMIUM|     32.7 OZ|\n",
      "|1111087396|PL SR CRUST 3 MEA...|PRIVATE LABEL|        FROZEN PIZZA|       PIZZA/PREMIUM|     30.5 OZ|\n",
      "|1111087398|PL SR CRUST PEPPR...|PRIVATE LABEL|        FROZEN PIZZA|       PIZZA/PREMIUM|     29.6 OZ|\n",
      "|1600027527|GM HONEY NUT CHEE...|   GENERAL MI|         COLD CEREAL|   ALL FAMILY CEREAL|    12.25 OZ|\n",
      "|1600027528|         GM CHEERIOS|   GENERAL MI|         COLD CEREAL|   ALL FAMILY CEREAL|       18 OZ|\n",
      "|1600027564|         GM CHEERIOS|   GENERAL MI|         COLD CEREAL|   ALL FAMILY CEREAL|       12 OZ|\n",
      "|2066200530|NWMN OWN PEPPERON...|         KING|        FROZEN PIZZA|       PIZZA/PREMIUM|     13.2 OZ|\n",
      "|2066200531|NWMN OWN 4 CHEESE...|         KING|        FROZEN PIZZA|       PIZZA/PREMIUM|     13.3 OZ|\n",
      "|2066200532|NWMN OWN SUPREME ...|         KING|        FROZEN PIZZA|       PIZZA/PREMIUM|     14.7 OZ|\n",
      "|2840002333|RLDGLD BRAIDED HO...|    FRITO LAY|          BAG SNACKS|            PRETZELS|       10 OZ|\n",
      "|2840004768|RLDGLD TINY TWIST...|    FRITO LAY|          BAG SNACKS|            PRETZELS|       16 OZ|\n",
      "+----------+--------------------+-------------+--------------------+--------------------+------------+\n",
      "only showing top 20 rows\n",
      "\n"
     ]
    }
   ],
   "source": [
    "product_df.show()"
   ]
  },
  {
   "cell_type": "code",
   "execution_count": 36,
   "id": "6978a1e9-b422-4a23-af24-325db1aa2395",
   "metadata": {},
   "outputs": [],
   "source": [
    "store_df = spark. \\\n",
    "    read. \\\n",
    "    option(\"header\",True) \\\n",
    "    .csv(store_data_folder)"
   ]
  },
  {
   "cell_type": "code",
   "execution_count": 37,
   "id": "fdc505b6-8406-44dd-82a8-9fa6f0ce47b5",
   "metadata": {},
   "outputs": [
    {
     "name": "stdout",
     "output_type": "stream",
     "text": [
      "+----------+--------------------+-------------+----------+------------+------------+\n",
      "|       UPC|         DESCRIPTION| MANUFACTURER|  CATEGORY|SUB_CATEGORY|PRODUCT_SIZE|\n",
      "+----------+--------------------+-------------+----------+------------+------------+\n",
      "|1111009477|PL MINI TWIST PRE...|PRIVATE LABEL|BAG SNACKS|    PRETZELS|       15 OZ|\n",
      "|1111009497|   PL PRETZEL STICKS|PRIVATE LABEL|BAG SNACKS|    PRETZELS|       15 OZ|\n",
      "|1111009507|   PL TWIST PRETZELS|PRIVATE LABEL|BAG SNACKS|    PRETZELS|       15 OZ|\n",
      "+----------+--------------------+-------------+----------+------------+------------+\n",
      "only showing top 3 rows\n",
      "\n"
     ]
    }
   ],
   "source": [
    "product_df.show(3)"
   ]
  },
  {
   "cell_type": "code",
   "execution_count": 38,
   "id": "219ad425-a4ab-4c10-a7d7-8b67a3aa5015",
   "metadata": {},
   "outputs": [],
   "source": [
    "transaction_df = spark. \\\n",
    "    read. \\\n",
    "    option(\"header\",True) \\\n",
    "    .csv(transaction_data_folder)"
   ]
  },
  {
   "cell_type": "code",
   "execution_count": 39,
   "id": "a4ed46cb-c436-4873-b84d-b65a989902d8",
   "metadata": {},
   "outputs": [
    {
     "name": "stdout",
     "output_type": "stream",
     "text": [
      "+-------------+---------+----------+-----+------+---+-----+-----+----------+-------+-------+--------+\n",
      "|WEEK_END_DATE|STORE_NUM|       UPC|UNITS|VISITS|HHS|SPEND|PRICE|BASE_PRICE|FEATURE|DISPLAY|TPR_ONLY|\n",
      "+-------------+---------+----------+-----+------+---+-----+-----+----------+-------+-------+--------+\n",
      "|    14-Jan-09|      367|1111009477|   13|    13| 13|18.07| 1.39|      1.57|      0|      0|       1|\n",
      "|    14-Jan-09|      367|1111009497|   20|    18| 18| 27.8| 1.39|      1.39|      0|      0|       0|\n",
      "|    14-Jan-09|      367|1111009507|   14|    14| 14|19.32| 1.38|      1.38|      0|      0|       0|\n",
      "+-------------+---------+----------+-----+------+---+-----+-----+----------+-------+-------+--------+\n",
      "only showing top 3 rows\n",
      "\n"
     ]
    }
   ],
   "source": [
    "transaction_df.show(3)"
   ]
  },
  {
   "cell_type": "code",
   "execution_count": 40,
   "id": "1e93e509-74ff-4119-891b-d939d9d9f4b6",
   "metadata": {},
   "outputs": [],
   "source": [
    "product_df.createOrReplaceTempView(\"products\")\n",
    "transaction_df.createOrReplaceTempView(\"transaction\")"
   ]
  },
  {
   "cell_type": "code",
   "execution_count": 41,
   "id": "d0d5d250-9170-4319-8574-7d7f87c153a2",
   "metadata": {},
   "outputs": [
    {
     "name": "stdout",
     "output_type": "stream",
     "text": [
      "+-------------+---------+----------+-----+------+---+-----+-----+----------+-------+-------+--------+----------+--------------------+-------------+----------+------------+------------+\n",
      "|WEEK_END_DATE|STORE_NUM|       UPC|UNITS|VISITS|HHS|SPEND|PRICE|BASE_PRICE|FEATURE|DISPLAY|TPR_ONLY|       UPC|         DESCRIPTION| MANUFACTURER|  CATEGORY|SUB_CATEGORY|PRODUCT_SIZE|\n",
      "+-------------+---------+----------+-----+------+---+-----+-----+----------+-------+-------+--------+----------+--------------------+-------------+----------+------------+------------+\n",
      "|    14-Jan-09|      367|1111009477|   13|    13| 13|18.07| 1.39|      1.57|      0|      0|       1|1111009477|PL MINI TWIST PRE...|PRIVATE LABEL|BAG SNACKS|    PRETZELS|       15 OZ|\n",
      "|    14-Jan-09|      367|1111009497|   20|    18| 18| 27.8| 1.39|      1.39|      0|      0|       0|1111009497|   PL PRETZEL STICKS|PRIVATE LABEL|BAG SNACKS|    PRETZELS|       15 OZ|\n",
      "|    14-Jan-09|      367|1111009507|   14|    14| 14|19.32| 1.38|      1.38|      0|      0|       0|1111009507|   PL TWIST PRETZELS|PRIVATE LABEL|BAG SNACKS|    PRETZELS|       15 OZ|\n",
      "+-------------+---------+----------+-----+------+---+-----+-----+----------+-------+-------+--------+----------+--------------------+-------------+----------+------------+------------+\n",
      "only showing top 3 rows\n",
      "\n"
     ]
    }
   ],
   "source": [
    "spark.sql(\"\"\"\n",
    "    SELECT\n",
    "        *\n",
    "        \n",
    "    FROM transaction\n",
    "    JOIN products\n",
    "    ON\n",
    "        transaction.upc = products.upc\n",
    "\"\"\").show(3)"
   ]
  },
  {
   "cell_type": "code",
   "execution_count": 42,
   "id": "e1d67efe-c620-40b6-9560-590210cdd36f",
   "metadata": {},
   "outputs": [],
   "source": [
    "df = spark.sql(\"\"\"\n",
    "    SELECT\n",
    "        *\n",
    "        \n",
    "    FROM transaction\n",
    "    JOIN products\n",
    "    ON\n",
    "        transaction.upc = products.upc\n",
    "\"\"\")"
   ]
  },
  {
   "cell_type": "code",
   "execution_count": 43,
   "id": "1eabf911-9ee9-431e-ade8-8a2132620862",
   "metadata": {},
   "outputs": [
    {
     "name": "stdout",
     "output_type": "stream",
     "text": [
      "+-------------+---------+----------+-----+------+---+-----+-----+----------+-------+-------+--------+----------+--------------------+-------------+----------+------------+------------+\n",
      "|WEEK_END_DATE|STORE_NUM|       UPC|UNITS|VISITS|HHS|SPEND|PRICE|BASE_PRICE|FEATURE|DISPLAY|TPR_ONLY|       UPC|         DESCRIPTION| MANUFACTURER|  CATEGORY|SUB_CATEGORY|PRODUCT_SIZE|\n",
      "+-------------+---------+----------+-----+------+---+-----+-----+----------+-------+-------+--------+----------+--------------------+-------------+----------+------------+------------+\n",
      "|    14-Jan-09|      367|1111009477|   13|    13| 13|18.07| 1.39|      1.57|      0|      0|       1|1111009477|PL MINI TWIST PRE...|PRIVATE LABEL|BAG SNACKS|    PRETZELS|       15 OZ|\n",
      "|    14-Jan-09|      367|1111009497|   20|    18| 18| 27.8| 1.39|      1.39|      0|      0|       0|1111009497|   PL PRETZEL STICKS|PRIVATE LABEL|BAG SNACKS|    PRETZELS|       15 OZ|\n",
      "|    14-Jan-09|      367|1111009507|   14|    14| 14|19.32| 1.38|      1.38|      0|      0|       0|1111009507|   PL TWIST PRETZELS|PRIVATE LABEL|BAG SNACKS|    PRETZELS|       15 OZ|\n",
      "+-------------+---------+----------+-----+------+---+-----+-----+----------+-------+-------+--------+----------+--------------------+-------------+----------+------------+------------+\n",
      "only showing top 3 rows\n",
      "\n"
     ]
    }
   ],
   "source": [
    "df.show(3)"
   ]
  },
  {
   "cell_type": "code",
   "execution_count": 44,
   "id": "ab7b9cd2-a8bc-4c38-971f-804d29ec0537",
   "metadata": {},
   "outputs": [
    {
     "name": "stdout",
     "output_type": "stream",
     "text": [
      "+----------+-----+--------------------+----------+\n",
      "|       upc|price|         description|  category|\n",
      "+----------+-----+--------------------+----------+\n",
      "|1111009477| 1.39|PL MINI TWIST PRE...|BAG SNACKS|\n",
      "|1111009497| 1.39|   PL PRETZEL STICKS|BAG SNACKS|\n",
      "|1111009507| 1.38|   PL TWIST PRETZELS|BAG SNACKS|\n",
      "+----------+-----+--------------------+----------+\n",
      "only showing top 3 rows\n",
      "\n"
     ]
    }
   ],
   "source": [
    "spark.sql(\"\"\"\n",
    "    SELECT\n",
    "        products.upc\n",
    "        , price\n",
    "        , description\n",
    "        , category\n",
    "        \n",
    "    FROM transaction\n",
    "    JOIN products\n",
    "    ON\n",
    "        transaction.upc = products.upc\n",
    "\"\"\").show(3)"
   ]
  },
  {
   "cell_type": "code",
   "execution_count": 45,
   "id": "4cef191b-c593-4de4-aca2-087783ef2e5a",
   "metadata": {},
   "outputs": [
    {
     "name": "stdout",
     "output_type": "stream",
     "text": [
      "+----------+----------+----------+--------------------+----------+\n",
      "|       upc|min(price)|max(price)|         description|  category|\n",
      "+----------+----------+----------+--------------------+----------+\n",
      "|1111009477|      0.89|      1.83|PL MINI TWIST PRE...|BAG SNACKS|\n",
      "|1111009497|      0.86|      1.69|   PL PRETZEL STICKS|BAG SNACKS|\n",
      "|1111009507|       0.8|      1.69|   PL TWIST PRETZELS|BAG SNACKS|\n",
      "+----------+----------+----------+--------------------+----------+\n",
      "only showing top 3 rows\n",
      "\n"
     ]
    }
   ],
   "source": [
    "spark.sql(\"\"\"\n",
    "    SELECT\n",
    "        products.upc\n",
    "        , min (price)\n",
    "        , max (price)\n",
    "        , description\n",
    "        , category\n",
    "        \n",
    "    FROM transaction\n",
    "    JOIN products\n",
    "    ON\n",
    "        transaction.upc = products.upc\n",
    "    GROUP BY\n",
    "        1, 4, 5\n",
    "\"\"\").show(3)"
   ]
  },
  {
   "cell_type": "code",
   "execution_count": 46,
   "id": "4945ce15-0f91-498b-b553-36e0af297a81",
   "metadata": {},
   "outputs": [
    {
     "name": "stdout",
     "output_type": "stream",
     "text": [
      "+----------+------------+-----+\n",
      "|       upc|product_size|is_oz|\n",
      "+----------+------------+-----+\n",
      "|1111009477|       15 OZ|  yes|\n",
      "|1111009497|       15 OZ|  yes|\n",
      "|1111009507|       15 OZ|  yes|\n",
      "|1111035398|      1.5 LT| null|\n",
      "|1111038078|      500 ML| null|\n",
      "|1111038080|      500 ML| null|\n",
      "|1111085319|    12.25 OZ|  yes|\n",
      "|1111085345|       20 OZ|  yes|\n",
      "|1111085350|       18 OZ|  yes|\n",
      "|1111087395|     32.7 OZ|  yes|\n",
      "+----------+------------+-----+\n",
      "only showing top 10 rows\n",
      "\n"
     ]
    }
   ],
   "source": [
    "spark.sql(\"\"\"\n",
    "    SELECT\n",
    "        upc\n",
    "        , product_size\n",
    "        , CASE\n",
    "            WHEN CONTAINS(product_size, 'OZ') THEN 'yes'\n",
    "        END AS is_oz\n",
    "        \n",
    "    FROM products\n",
    "\"\"\").show(10)"
   ]
  },
  {
   "cell_type": "code",
   "execution_count": 47,
   "id": "a5d833a8-fa8f-4976-9eb6-c58cfd8bf2a1",
   "metadata": {},
   "outputs": [],
   "source": [
    "product_df.createOrReplaceTempView(\"products\")\n",
    "store_df.createOrReplaceTempView(\"stores\")\n",
    "transaction_df.createOrReplaceTempView(\"transactions\")"
   ]
  },
  {
   "cell_type": "code",
   "execution_count": 48,
   "id": "ed22f294-ed1c-46a7-aa4e-eafa76993910",
   "metadata": {},
   "outputs": [],
   "source": [
    "#--------------------------------------------------------------------"
   ]
  },
  {
   "cell_type": "code",
   "execution_count": 49,
   "id": "bb60b7d9-10e5-4171-8ac8-8be6a82a7f2e",
   "metadata": {},
   "outputs": [],
   "source": [
    "#HW Session"
   ]
  },
  {
   "cell_type": "code",
   "execution_count": 50,
   "id": "52452d9a-d485-4722-9e1a-34be6903d827",
   "metadata": {},
   "outputs": [],
   "source": [
    "#ช่วงราคาสินค้าแต่ะละประเภท"
   ]
  },
  {
   "cell_type": "code",
   "execution_count": 51,
   "id": "c556cd76-2caf-4ae7-8a4f-041812733520",
   "metadata": {},
   "outputs": [
    {
     "name": "stdout",
     "output_type": "stream",
     "text": [
      "+-----------+----------+----------+--------------------+--------------------+\n",
      "|        upc|min(price)|max(price)|         description|            category|\n",
      "+-----------+----------+----------+--------------------+--------------------+\n",
      "| 1111009477|      0.89|      1.83|PL MINI TWIST PRE...|          BAG SNACKS|\n",
      "| 1111009497|      0.86|      1.69|   PL PRETZEL STICKS|          BAG SNACKS|\n",
      "| 1111009507|       0.8|      1.69|   PL TWIST PRETZELS|          BAG SNACKS|\n",
      "| 1111035398|         1|      4.69|PL BL MINT ANTSPT...|ORAL HYGIENE PROD...|\n",
      "| 1111038078|      0.47|      3.08|PL BL MINT ANTSPT...|ORAL HYGIENE PROD...|\n",
      "| 1111038080|      0.46|      4.18|PL ANTSPTC SPG MN...|ORAL HYGIENE PROD...|\n",
      "| 1111085319|      1.07|      1.99|PL HONEY NUT TOAS...|         COLD CEREAL|\n",
      "| 1111085345|      0.93|         2|      PL RAISIN BRAN|         COLD CEREAL|\n",
      "| 1111085350|      1.03|      2.49|PL BT SZ FRSTD SH...|         COLD CEREAL|\n",
      "| 1111087395|       1.4|      5.29|PL SR CRUST SUPRM...|        FROZEN PIZZA|\n",
      "| 1111087396|      0.01|      5.49|PL SR CRUST 3 MEA...|        FROZEN PIZZA|\n",
      "| 1111087398|      1.78|      5.29|PL SR CRUST PEPPR...|        FROZEN PIZZA|\n",
      "| 1600027527|       1.5|      3.39|GM HONEY NUT CHEE...|         COLD CEREAL|\n",
      "| 1600027528|       1.5|      5.19|         GM CHEERIOS|         COLD CEREAL|\n",
      "| 1600027564|      0.58|      3.56|         GM CHEERIOS|         COLD CEREAL|\n",
      "| 2066200530|      2.99|      6.99|NWMN OWN PEPPERON...|        FROZEN PIZZA|\n",
      "| 2066200531|      2.99|      6.99|NWMN OWN 4 CHEESE...|        FROZEN PIZZA|\n",
      "| 2066200532|         4|      6.99|NWMN OWN SUPREME ...|        FROZEN PIZZA|\n",
      "| 2840002333|      1.65|      3.29|RLDGLD BRAIDED HO...|          BAG SNACKS|\n",
      "| 2840004768|      1.65|      3.29|RLDGLD TINY TWIST...|          BAG SNACKS|\n",
      "| 2840004770|      1.65|      3.29|RLDGLD PRETZEL ST...|          BAG SNACKS|\n",
      "| 3000006340|      0.91|         7|  QKER LIFE ORIGINAL|         COLD CEREAL|\n",
      "| 3000006560|      1.06|      3.09|QKER CAP N CRUNCH...|         COLD CEREAL|\n",
      "| 3000006610|         1|      3.09|   QKER CAP N CRUNCH|         COLD CEREAL|\n",
      "|31254742725|         1|      5.14|LSTRNE CL MINT AN...|ORAL HYGIENE PROD...|\n",
      "|31254742735|       1.5|      6.19|LSTRNE CL MINT AN...|ORAL HYGIENE PROD...|\n",
      "|31254742835|      1.99|      7.59|LSTRNE FRS BRST A...|ORAL HYGIENE PROD...|\n",
      "| 3500068914|       0.5|      7.99| COLG SPEARMINT WISP|ORAL HYGIENE PROD...|\n",
      "| 3700019521|      0.81|      3.99|CREST PH WHTG CLN...|ORAL HYGIENE PROD...|\n",
      "| 3700031613|      1.79|      5.29|SCOPE ORIG MINT M...|ORAL HYGIENE PROD...|\n",
      "+-----------+----------+----------+--------------------+--------------------+\n",
      "only showing top 30 rows\n",
      "\n"
     ]
    }
   ],
   "source": [
    "spark.sql(\"\"\"\n",
    "    select\n",
    "        products.upc\n",
    "        , min(price)\n",
    "        , max(price)\n",
    "        , description\n",
    "        , category\n",
    "        \n",
    "    from transactions\n",
    "    join products\n",
    "    on \n",
    "        transactions.upc = products.upc\n",
    "    group by\n",
    "        1, 4, 5\n",
    "\"\"\").show(30)"
   ]
  },
  {
   "cell_type": "code",
   "execution_count": 52,
   "id": "f8ebb577-50b4-4dd7-a481-a08090735f3c",
   "metadata": {},
   "outputs": [
    {
     "name": "stdout",
     "output_type": "stream",
     "text": [
      "+----------+------------+-----+----+------------------+\n",
      "|       upc|product_size|value|unit|             is_oz|\n",
      "+----------+------------+-----+----+------------------+\n",
      "|1111009477|       15 OZ|   15|  OZ|            1500.0|\n",
      "|1111009497|       15 OZ|   15|  OZ|            1500.0|\n",
      "|1111009507|       15 OZ|   15|  OZ|            1500.0|\n",
      "|1111035398|      1.5 LT|  1.5|  LT|             0.015|\n",
      "|1111038078|      500 ML|  500|  ML|               5.0|\n",
      "|1111038080|      500 ML|  500|  ML|               5.0|\n",
      "|1111085319|    12.25 OZ|12.25|  OZ|            1225.0|\n",
      "|1111085345|       20 OZ|   20|  OZ|            2000.0|\n",
      "|1111085350|       18 OZ|   18|  OZ|            1800.0|\n",
      "|1111087395|     32.7 OZ| 32.7|  OZ|3270.0000000000005|\n",
      "|1111087396|     30.5 OZ| 30.5|  OZ|            3050.0|\n",
      "|1111087398|     29.6 OZ| 29.6|  OZ|            2960.0|\n",
      "|1600027527|    12.25 OZ|12.25|  OZ|            1225.0|\n",
      "|1600027528|       18 OZ|   18|  OZ|            1800.0|\n",
      "|1600027564|       12 OZ|   12|  OZ|            1200.0|\n",
      "|2066200530|     13.2 OZ| 13.2|  OZ|            1320.0|\n",
      "|2066200531|     13.3 OZ| 13.3|  OZ|            1330.0|\n",
      "|2066200532|     14.7 OZ| 14.7|  OZ|            1470.0|\n",
      "|2840002333|       10 OZ|   10|  OZ|            1000.0|\n",
      "|2840004768|       16 OZ|   16|  OZ|            1600.0|\n",
      "|2840004770|       16 OZ|   16|  OZ|            1600.0|\n",
      "|3000006340|       13 OZ|   13|  OZ|            1300.0|\n",
      "|3000006560|       13 OZ|   13|  OZ|            1300.0|\n",
      "|3000006610|       14 OZ|   14|  OZ|            1400.0|\n",
      "|3120505000|       30 OZ|   30|  OZ|            3000.0|\n",
      "|3120505100|       31 OZ|   31|  OZ|            3100.0|\n",
      "|3120506000|       27 OZ|   27|  OZ|            2700.0|\n",
      "|3500068914|       16 CT|   16|  CT|              0.16|\n",
      "|3700019521|      4.2 OZ|  4.2|  OZ|             420.0|\n",
      "|3700031613|        1 LT|    1|  LT|              0.01|\n",
      "|3700044982|        1 LT|    1|  LT|              0.01|\n",
      "|3800031829|       18 OZ|   18|  OZ|            1800.0|\n",
      "|3800031838|       15 OZ|   15|  OZ|            1500.0|\n",
      "|3800039118|     12.2 OZ| 12.2|  OZ|            1220.0|\n",
      "|4116709428|      532 ML|  532|  ML|              5.32|\n",
      "|4116709448|      532 ML|  532|  ML|              5.32|\n",
      "|4116709565|      532 ML|  532|  ML|              5.32|\n",
      "|7027312504|       12 OZ|   12|  OZ|            1200.0|\n",
      "|7027316204|       16 OZ|   16|  OZ|            1600.0|\n",
      "|7027316404|       16 OZ|   16|  OZ|            1600.0|\n",
      "|7110410455|       16 OZ|   16|  OZ|            1600.0|\n",
      "|7110410470|       16 OZ|   16|  OZ|            1600.0|\n",
      "|7110410471|       16 OZ|   16|  OZ|            1600.0|\n",
      "|7192100336|     29.8 OZ| 29.8|  OZ|            2980.0|\n",
      "|7192100337|     32.7 OZ| 32.7|  OZ|3270.0000000000005|\n",
      "|7192100339|     28.3 OZ| 28.3|  OZ|            2830.0|\n",
      "|7218063052|     22.7 OZ| 22.7|  OZ|            2270.0|\n",
      "|7218063979|    27.35 OZ|27.35|  OZ|            2735.0|\n",
      "|7218063983|    26.11 OZ|26.11|  OZ|            2611.0|\n",
      "|7797502248|       10 OZ|   10|  OZ|            1000.0|\n",
      "+----------+------------+-----+----+------------------+\n",
      "only showing top 50 rows\n",
      "\n"
     ]
    }
   ],
   "source": [
    "spark.sql(\"\"\"\n",
    "    select\n",
    "        upc\n",
    "        , product_size\n",
    "        , split(product_size, ' ')[0] as value\n",
    "        , split(product_size, ' ')[1] as unit\n",
    "        , case\n",
    "            when split(product_size, ' ')[1] = 'OZ' then split(product_size, ' ')[0] * 100\n",
    "            else\n",
    "                split(product_size, ' ')[0] / 100\n",
    "            end as is_oz\n",
    "        \n",
    "    from products\n",
    "\"\"\").show(50)"
   ]
  },
  {
   "cell_type": "code",
   "execution_count": 53,
   "id": "6e2c55df-bcd1-4752-82f8-961f92c0a4d3",
   "metadata": {},
   "outputs": [],
   "source": [
    "#โปรโมชั่นที่ส่งผลต่อยอดขายตามพื้นที่ภูมิศาสตร์"
   ]
  },
  {
   "cell_type": "code",
   "execution_count": 54,
   "id": "ac7bf8f7-2724-442a-9bc9-84ddd01b6db0",
   "metadata": {},
   "outputs": [
    {
     "name": "stdout",
     "output_type": "stream",
     "text": [
      "+-------+------------------+-----------------------+\n",
      "|is_sale|         buy_per_p|ADDRESS_STATE_PROV_CODE|\n",
      "+-------+------------------+-----------------------+\n",
      "|      1|               1.0|                     KY|\n",
      "|      1|1.3333333333333333|                     KY|\n",
      "|      1|              1.25|                     KY|\n",
      "|      1|1.4186046511627908|                     KY|\n",
      "|      1|1.3846153846153846|                     KY|\n",
      "|      1|1.1666666666666667|                     KY|\n",
      "|      1|1.1176470588235294|                     KY|\n",
      "|      1| 1.144736842105263|                     KY|\n",
      "|      1| 1.170731707317073|                     KY|\n",
      "|      1|               1.0|                     KY|\n",
      "|      1|1.0172413793103448|                     KY|\n",
      "|      1|               1.0|                     KY|\n",
      "|      1|             1.625|                     KY|\n",
      "|      1|             1.375|                     KY|\n",
      "|      1|1.3333333333333333|                     KY|\n",
      "|      1|1.0454545454545454|                     KY|\n",
      "|      1|1.1333333333333333|                     KY|\n",
      "|      1|               1.0|                     KY|\n",
      "|      1|               1.0|                     KY|\n",
      "|      1|               1.0|                     OH|\n",
      "|      1|1.0555555555555556|                     OH|\n",
      "|      1|             1.125|                     OH|\n",
      "|      1|               1.5|                     OH|\n",
      "|      1|1.2264150943396226|                     OH|\n",
      "|      1|              1.26|                     OH|\n",
      "|      1|1.1891891891891893|                     OH|\n",
      "|      1|1.2777777777777777|                     OH|\n",
      "|      1|               1.2|                     OH|\n",
      "|      1|               1.0|                     OH|\n",
      "|      1|               1.0|                     OH|\n",
      "|      1|               1.0|                     OH|\n",
      "|      1|               1.0|                     OH|\n",
      "|      1|1.5714285714285714|                     OH|\n",
      "|      1|1.7058823529411764|                     OH|\n",
      "|      1|1.9285714285714286|                     OH|\n",
      "|      1|               1.0|                     OH|\n",
      "|      1|1.1666666666666667|                     OH|\n",
      "|      1|               1.0|                     OH|\n",
      "|      1|1.0689655172413792|                     OH|\n",
      "|      1| 1.119047619047619|                     OH|\n",
      "|      1|1.0285714285714285|                     OH|\n",
      "|      1|             1.125|                     OH|\n",
      "|      1|1.3333333333333333|                     KY|\n",
      "|      1|              1.32|                     KY|\n",
      "|      1|1.2083333333333333|                     KY|\n",
      "|      1|1.3103448275862069|                     KY|\n",
      "|      1|1.5116279069767442|                     KY|\n",
      "|      1|1.2049180327868851|                     KY|\n",
      "|      1|1.5510204081632653|                     KY|\n",
      "|      1| 1.271186440677966|                     KY|\n",
      "+-------+------------------+-----------------------+\n",
      "only showing top 50 rows\n",
      "\n"
     ]
    }
   ],
   "source": [
    "spark.sql(\"\"\"\n",
    "    select\n",
    "        -- transactions.upc\n",
    "        -- , transactions.STORE_NUM\n",
    "        -- , price\n",
    "        -- , base_price\n",
    "        case \n",
    "            when (base_price - price) > 0  then 1 \n",
    "            else \n",
    "                0\n",
    "            end as is_sale\n",
    "        -- , units\n",
    "        -- , visits\n",
    "        , units/visits as buy_per_p\n",
    "        \n",
    "        , ADDRESS_STATE_PROV_CODE\n",
    "        \n",
    "        \n",
    "    from transactions\n",
    "    join stores\n",
    "    on \n",
    "        transactions.STORE_NUM = stores.STORE_ID\n",
    "    where (base_price - price) > 0\n",
    "\n",
    "    \n",
    "\"\"\").show(50)"
   ]
  },
  {
   "cell_type": "code",
   "execution_count": 55,
   "id": "0f81ea98-ff77-4d9d-8e47-5601299f6e92",
   "metadata": {},
   "outputs": [
    {
     "name": "stdout",
     "output_type": "stream",
     "text": [
      "+------------------+-----------------------+\n",
      "|         buy_per_p|ADDRESS_STATE_PROV_CODE|\n",
      "+------------------+-----------------------+\n",
      "|1.1834336090000268|                     KY|\n",
      "|1.1928337487593017|                     IN|\n",
      "|1.1898599127461704|                     OH|\n",
      "|1.1523177900229675|                     TX|\n",
      "+------------------+-----------------------+\n",
      "\n"
     ]
    }
   ],
   "source": [
    "spark.sql(\"\"\"\n",
    "    select        \n",
    "           \n",
    "        AVG(units/visits) as buy_per_p        \n",
    "        , ADDRESS_STATE_PROV_CODE        \n",
    "        \n",
    "    from transactions\n",
    "    join stores\n",
    "    on \n",
    "        transactions.STORE_NUM = stores.STORE_ID\n",
    "    where (base_price - price) > 0\n",
    "    group by\n",
    "        ADDRESS_STATE_PROV_CODE\n",
    "\n",
    "    \n",
    "\"\"\").show(50)"
   ]
  },
  {
   "cell_type": "code",
   "execution_count": 56,
   "id": "c63fa5ca-830c-492c-bd5f-e64ed56b35c1",
   "metadata": {},
   "outputs": [],
   "source": [
    "#สินค้าที่กระตุ้นยอดขายจากการลดราคา"
   ]
  },
  {
   "cell_type": "code",
   "execution_count": 57,
   "id": "132375b0-58fa-4524-8ee9-eeebb6a38769",
   "metadata": {},
   "outputs": [
    {
     "name": "stdout",
     "output_type": "stream",
     "text": [
      "+--------------------+------------------+\n",
      "|            CATEGORY|         buy_per_p|\n",
      "+--------------------+------------------+\n",
      "|         COLD CEREAL|1.1681271661328343|\n",
      "|        FROZEN PIZZA|1.1645997816954927|\n",
      "|ORAL HYGIENE PROD...| 1.121139647543165|\n",
      "|          BAG SNACKS|1.2368985083204924|\n",
      "+--------------------+------------------+\n",
      "\n"
     ]
    }
   ],
   "source": [
    "spark.sql(\"\"\"\n",
    "    select\n",
    "       \n",
    "        CATEGORY\n",
    "        -- , sub_CATEGORY\n",
    "        , AVG(units/visits) as buy_per_p\n",
    "        -- , SPEND\n",
    "        \n",
    "    from transactions\n",
    "    join products\n",
    "    on \n",
    "        transactions.upc = products.upc\n",
    "    where (base_price - price) > 0\n",
    "    group by\n",
    "        CATEGORY\n",
    "\n",
    "    \n",
    "\"\"\").show(50)"
   ]
  },
  {
   "cell_type": "code",
   "execution_count": null,
   "id": "89f6e684-7bb2-4063-a081-dd7b9a3dbc2c",
   "metadata": {},
   "outputs": [],
   "source": []
  }
 ],
 "metadata": {
  "kernelspec": {
   "display_name": "Python 3 (ipykernel)",
   "language": "python",
   "name": "python3"
  },
  "language_info": {
   "codemirror_mode": {
    "name": "ipython",
    "version": 3
   },
   "file_extension": ".py",
   "mimetype": "text/x-python",
   "name": "python",
   "nbconvert_exporter": "python",
   "pygments_lexer": "ipython3",
   "version": "3.10.6"
  }
 },
 "nbformat": 4,
 "nbformat_minor": 5
}

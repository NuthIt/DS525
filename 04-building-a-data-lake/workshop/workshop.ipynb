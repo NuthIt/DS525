{
 "cells": [
  {
   "cell_type": "markdown",
   "id": "e134d351-6667-4bba-9a9e-e89970c40cfb",
   "metadata": {},
   "source": [
    "# Breakfast at the Frat: A Time Series Analysis\n",
    "\n",
    "Sales and promotion information on the top five products from each of the top three brands within four selected categories (mouthwash, pretzels, frozen pizza, and boxed cereal), gathered from a sample of stores over 156 weeks.\n",
    "\n",
    "- Unit sales, households, visits, and spend data by product, store, and week\n",
    "- Base Price and Actual Shelf Price, to determine a product’s discount, if any\n",
    "- Promotional support details (e.g., sale tag, in-store display), if applicable for the given product/store/week\n",
    "- Store information, including size and location, as well as a price tier designation (e.g., upscale vs. value)\n",
    "- Product information, including UPC, size, and description\n",
    "\n",
    "To identify outliers, it is suggested to look at\n",
    "\n",
    "- The ratio of units vs. number of visits\n",
    "- The ratio of visits vs. number of households\n",
    "- Some items that may be out-of-stock or discontinued for a store\n",
    "\n",
    "**Source:** https://www.dunnhumby.com/source-files/"
   ]
  },
  {
   "cell_type": "code",
   "execution_count": 1,
   "id": "b796ca6e-ac95-406d-91fe-1383419620d1",
   "metadata": {},
   "outputs": [],
   "source": [
    "from pyspark.sql import SparkSession"
   ]
  },
  {
   "cell_type": "code",
   "execution_count": 2,
   "id": "268e7e7b-7431-43c0-9b6f-1d50e758b00e",
   "metadata": {},
   "outputs": [],
   "source": [
    "spark = SparkSession.builder \\\n",
    "    .appName(\"breakfast\") \\\n",
    "    .getOrCreate()"
   ]
  },
  {
   "cell_type": "code",
   "execution_count": 3,
   "id": "d66c43ba-edd2-486b-92b4-8a8b1ae3bd7e",
   "metadata": {},
   "outputs": [],
   "source": [
    "product_data_folder = \"dataset/products\"\n",
    "store_data_folder = \"dataset/stores\"\n",
    "transaction_data_folder = \"dataset/transactions\""
   ]
  },
  {
   "cell_type": "markdown",
   "id": "14f9105f-ff68-4a3e-a3a6-3f71fef1ce0b",
   "metadata": {},
   "source": [
    "### Perform ETL to Answer the Following Questions\n",
    "\n",
    "1. What is the range of prices offered on products?\n",
    "1. What is the impact on units/visit of promotions by geographies?\n",
    "1. Which products would you lower the price to increase sales?"
   ]
  },
  {
   "cell_type": "code",
   "execution_count": 4,
   "id": "a5318f01-6ecc-4222-87d1-1198958f8e5e",
   "metadata": {},
   "outputs": [],
   "source": [
    "product_df = spark. \\\n",
    "    read. \\\n",
    "    option(\"header\",True) \\\n",
    "    .csv(product_data_folder)"
   ]
  },
  {
   "cell_type": "code",
   "execution_count": 5,
   "id": "e4a1f3d6-cce4-4077-b4e6-2fbe9265adc9",
   "metadata": {},
   "outputs": [
    {
     "name": "stdout",
     "output_type": "stream",
     "text": [
      "+----------+--------------------+-------------+----------+------------+------------+\n",
      "|       UPC|         DESCRIPTION| MANUFACTURER|  CATEGORY|SUB_CATEGORY|PRODUCT_SIZE|\n",
      "+----------+--------------------+-------------+----------+------------+------------+\n",
      "|1111009477|PL MINI TWIST PRE...|PRIVATE LABEL|BAG SNACKS|    PRETZELS|       15 OZ|\n",
      "+----------+--------------------+-------------+----------+------------+------------+\n",
      "only showing top 1 row\n",
      "\n"
     ]
    }
   ],
   "source": [
    "product_df.show(1)"
   ]
  },
  {
   "cell_type": "code",
   "execution_count": 6,
   "id": "ee90489e-8e82-4ee2-bfd8-750e0c40ac1a",
   "metadata": {},
   "outputs": [
    {
     "name": "stdout",
     "output_type": "stream",
     "text": [
      "+----------+--------------------+-------------+--------------------+--------------------+------------+\n",
      "|       UPC|         DESCRIPTION| MANUFACTURER|            CATEGORY|        SUB_CATEGORY|PRODUCT_SIZE|\n",
      "+----------+--------------------+-------------+--------------------+--------------------+------------+\n",
      "|1111009477|PL MINI TWIST PRE...|PRIVATE LABEL|          BAG SNACKS|            PRETZELS|       15 OZ|\n",
      "|1111009497|   PL PRETZEL STICKS|PRIVATE LABEL|          BAG SNACKS|            PRETZELS|       15 OZ|\n",
      "|1111009507|   PL TWIST PRETZELS|PRIVATE LABEL|          BAG SNACKS|            PRETZELS|       15 OZ|\n",
      "|1111035398|PL BL MINT ANTSPT...|PRIVATE LABEL|ORAL HYGIENE PROD...|MOUTHWASHES (ANTI...|      1.5 LT|\n",
      "|1111038078|PL BL MINT ANTSPT...|PRIVATE LABEL|ORAL HYGIENE PROD...|MOUTHWASHES (ANTI...|      500 ML|\n",
      "|1111038080|PL ANTSPTC SPG MN...|PRIVATE LABEL|ORAL HYGIENE PROD...|MOUTHWASHES (ANTI...|      500 ML|\n",
      "|1111085319|PL HONEY NUT TOAS...|PRIVATE LABEL|         COLD CEREAL|   ALL FAMILY CEREAL|    12.25 OZ|\n",
      "|1111085345|      PL RAISIN BRAN|PRIVATE LABEL|         COLD CEREAL|        ADULT CEREAL|       20 OZ|\n",
      "|1111085350|PL BT SZ FRSTD SH...|PRIVATE LABEL|         COLD CEREAL|   ALL FAMILY CEREAL|       18 OZ|\n",
      "|1111087395|PL SR CRUST SUPRM...|PRIVATE LABEL|        FROZEN PIZZA|       PIZZA/PREMIUM|     32.7 OZ|\n",
      "|1111087396|PL SR CRUST 3 MEA...|PRIVATE LABEL|        FROZEN PIZZA|       PIZZA/PREMIUM|     30.5 OZ|\n",
      "|1111087398|PL SR CRUST PEPPR...|PRIVATE LABEL|        FROZEN PIZZA|       PIZZA/PREMIUM|     29.6 OZ|\n",
      "|1600027527|GM HONEY NUT CHEE...|   GENERAL MI|         COLD CEREAL|   ALL FAMILY CEREAL|    12.25 OZ|\n",
      "|1600027528|         GM CHEERIOS|   GENERAL MI|         COLD CEREAL|   ALL FAMILY CEREAL|       18 OZ|\n",
      "|1600027564|         GM CHEERIOS|   GENERAL MI|         COLD CEREAL|   ALL FAMILY CEREAL|       12 OZ|\n",
      "|2066200530|NWMN OWN PEPPERON...|         KING|        FROZEN PIZZA|       PIZZA/PREMIUM|     13.2 OZ|\n",
      "|2066200531|NWMN OWN 4 CHEESE...|         KING|        FROZEN PIZZA|       PIZZA/PREMIUM|     13.3 OZ|\n",
      "|2066200532|NWMN OWN SUPREME ...|         KING|        FROZEN PIZZA|       PIZZA/PREMIUM|     14.7 OZ|\n",
      "|2840002333|RLDGLD BRAIDED HO...|    FRITO LAY|          BAG SNACKS|            PRETZELS|       10 OZ|\n",
      "|2840004768|RLDGLD TINY TWIST...|    FRITO LAY|          BAG SNACKS|            PRETZELS|       16 OZ|\n",
      "+----------+--------------------+-------------+--------------------+--------------------+------------+\n",
      "only showing top 20 rows\n",
      "\n"
     ]
    }
   ],
   "source": [
    "product_df.show()"
   ]
  },
  {
   "cell_type": "code",
   "execution_count": 7,
   "id": "6978a1e9-b422-4a23-af24-325db1aa2395",
   "metadata": {},
   "outputs": [],
   "source": [
    "store_df = spark. \\\n",
    "    read. \\\n",
    "    option(\"header\",True) \\\n",
    "    .csv(store_data_folder)"
   ]
  },
  {
   "cell_type": "code",
   "execution_count": 8,
   "id": "fdc505b6-8406-44dd-82a8-9fa6f0ce47b5",
   "metadata": {},
   "outputs": [
    {
     "name": "stdout",
     "output_type": "stream",
     "text": [
      "+----------+--------------------+-------------+----------+------------+------------+\n",
      "|       UPC|         DESCRIPTION| MANUFACTURER|  CATEGORY|SUB_CATEGORY|PRODUCT_SIZE|\n",
      "+----------+--------------------+-------------+----------+------------+------------+\n",
      "|1111009477|PL MINI TWIST PRE...|PRIVATE LABEL|BAG SNACKS|    PRETZELS|       15 OZ|\n",
      "|1111009497|   PL PRETZEL STICKS|PRIVATE LABEL|BAG SNACKS|    PRETZELS|       15 OZ|\n",
      "|1111009507|   PL TWIST PRETZELS|PRIVATE LABEL|BAG SNACKS|    PRETZELS|       15 OZ|\n",
      "+----------+--------------------+-------------+----------+------------+------------+\n",
      "only showing top 3 rows\n",
      "\n"
     ]
    }
   ],
   "source": [
    "product_df.show(3)"
   ]
  },
  {
   "cell_type": "code",
   "execution_count": 9,
   "id": "219ad425-a4ab-4c10-a7d7-8b67a3aa5015",
   "metadata": {},
   "outputs": [],
   "source": [
    "transaction_df = spark. \\\n",
    "    read. \\\n",
    "    option(\"header\",True) \\\n",
    "    .csv(transaction_data_folder)"
   ]
  },
  {
   "cell_type": "code",
   "execution_count": 10,
   "id": "a4ed46cb-c436-4873-b84d-b65a989902d8",
   "metadata": {},
   "outputs": [
    {
     "name": "stdout",
     "output_type": "stream",
     "text": [
      "+-------------+---------+----------+-----+------+---+-----+-----+----------+-------+-------+--------+\n",
      "|WEEK_END_DATE|STORE_NUM|       UPC|UNITS|VISITS|HHS|SPEND|PRICE|BASE_PRICE|FEATURE|DISPLAY|TPR_ONLY|\n",
      "+-------------+---------+----------+-----+------+---+-----+-----+----------+-------+-------+--------+\n",
      "|    14-Jan-09|      367|1111009477|   13|    13| 13|18.07| 1.39|      1.57|      0|      0|       1|\n",
      "|    14-Jan-09|      367|1111009497|   20|    18| 18| 27.8| 1.39|      1.39|      0|      0|       0|\n",
      "|    14-Jan-09|      367|1111009507|   14|    14| 14|19.32| 1.38|      1.38|      0|      0|       0|\n",
      "+-------------+---------+----------+-----+------+---+-----+-----+----------+-------+-------+--------+\n",
      "only showing top 3 rows\n",
      "\n"
     ]
    }
   ],
   "source": [
    "transaction_df.show(3)"
   ]
  },
  {
   "cell_type": "code",
   "execution_count": 11,
   "id": "1e93e509-74ff-4119-891b-d939d9d9f4b6",
   "metadata": {},
   "outputs": [],
   "source": [
    "product_df.createOrReplaceTempView(\"products\")\n",
    "transaction_df.createOrReplaceTempView(\"transaction\")"
   ]
  },
  {
   "cell_type": "code",
   "execution_count": 12,
   "id": "d0d5d250-9170-4319-8574-7d7f87c153a2",
   "metadata": {},
   "outputs": [
    {
     "name": "stdout",
     "output_type": "stream",
     "text": [
      "+-------------+---------+----------+-----+------+---+-----+-----+----------+-------+-------+--------+----------+--------------------+-------------+----------+------------+------------+\n",
      "|WEEK_END_DATE|STORE_NUM|       UPC|UNITS|VISITS|HHS|SPEND|PRICE|BASE_PRICE|FEATURE|DISPLAY|TPR_ONLY|       UPC|         DESCRIPTION| MANUFACTURER|  CATEGORY|SUB_CATEGORY|PRODUCT_SIZE|\n",
      "+-------------+---------+----------+-----+------+---+-----+-----+----------+-------+-------+--------+----------+--------------------+-------------+----------+------------+------------+\n",
      "|    14-Jan-09|      367|1111009477|   13|    13| 13|18.07| 1.39|      1.57|      0|      0|       1|1111009477|PL MINI TWIST PRE...|PRIVATE LABEL|BAG SNACKS|    PRETZELS|       15 OZ|\n",
      "|    14-Jan-09|      367|1111009497|   20|    18| 18| 27.8| 1.39|      1.39|      0|      0|       0|1111009497|   PL PRETZEL STICKS|PRIVATE LABEL|BAG SNACKS|    PRETZELS|       15 OZ|\n",
      "|    14-Jan-09|      367|1111009507|   14|    14| 14|19.32| 1.38|      1.38|      0|      0|       0|1111009507|   PL TWIST PRETZELS|PRIVATE LABEL|BAG SNACKS|    PRETZELS|       15 OZ|\n",
      "+-------------+---------+----------+-----+------+---+-----+-----+----------+-------+-------+--------+----------+--------------------+-------------+----------+------------+------------+\n",
      "only showing top 3 rows\n",
      "\n"
     ]
    }
   ],
   "source": [
    "spark.sql(\"\"\"\n",
    "    SELECT\n",
    "        *\n",
    "        \n",
    "    FROM transaction\n",
    "    JOIN products\n",
    "    ON\n",
    "        transaction.upc = products.upc\n",
    "\"\"\").show(3)"
   ]
  },
  {
   "cell_type": "code",
   "execution_count": 13,
   "id": "e1d67efe-c620-40b6-9560-590210cdd36f",
   "metadata": {},
   "outputs": [],
   "source": [
    "df = spark.sql(\"\"\"\n",
    "    SELECT\n",
    "        *\n",
    "        \n",
    "    FROM transaction\n",
    "    JOIN products\n",
    "    ON\n",
    "        transaction.upc = products.upc\n",
    "\"\"\")"
   ]
  },
  {
   "cell_type": "code",
   "execution_count": 14,
   "id": "1eabf911-9ee9-431e-ade8-8a2132620862",
   "metadata": {},
   "outputs": [
    {
     "name": "stdout",
     "output_type": "stream",
     "text": [
      "+-------------+---------+----------+-----+------+---+-----+-----+----------+-------+-------+--------+----------+--------------------+-------------+----------+------------+------------+\n",
      "|WEEK_END_DATE|STORE_NUM|       UPC|UNITS|VISITS|HHS|SPEND|PRICE|BASE_PRICE|FEATURE|DISPLAY|TPR_ONLY|       UPC|         DESCRIPTION| MANUFACTURER|  CATEGORY|SUB_CATEGORY|PRODUCT_SIZE|\n",
      "+-------------+---------+----------+-----+------+---+-----+-----+----------+-------+-------+--------+----------+--------------------+-------------+----------+------------+------------+\n",
      "|    14-Jan-09|      367|1111009477|   13|    13| 13|18.07| 1.39|      1.57|      0|      0|       1|1111009477|PL MINI TWIST PRE...|PRIVATE LABEL|BAG SNACKS|    PRETZELS|       15 OZ|\n",
      "|    14-Jan-09|      367|1111009497|   20|    18| 18| 27.8| 1.39|      1.39|      0|      0|       0|1111009497|   PL PRETZEL STICKS|PRIVATE LABEL|BAG SNACKS|    PRETZELS|       15 OZ|\n",
      "|    14-Jan-09|      367|1111009507|   14|    14| 14|19.32| 1.38|      1.38|      0|      0|       0|1111009507|   PL TWIST PRETZELS|PRIVATE LABEL|BAG SNACKS|    PRETZELS|       15 OZ|\n",
      "+-------------+---------+----------+-----+------+---+-----+-----+----------+-------+-------+--------+----------+--------------------+-------------+----------+------------+------------+\n",
      "only showing top 3 rows\n",
      "\n"
     ]
    }
   ],
   "source": [
    "df.show(3)"
   ]
  },
  {
   "cell_type": "code",
   "execution_count": 15,
   "id": "ab7b9cd2-a8bc-4c38-971f-804d29ec0537",
   "metadata": {},
   "outputs": [
    {
     "name": "stdout",
     "output_type": "stream",
     "text": [
      "+----------+-----+--------------------+----------+\n",
      "|       upc|price|         description|  category|\n",
      "+----------+-----+--------------------+----------+\n",
      "|1111009477| 1.39|PL MINI TWIST PRE...|BAG SNACKS|\n",
      "|1111009497| 1.39|   PL PRETZEL STICKS|BAG SNACKS|\n",
      "|1111009507| 1.38|   PL TWIST PRETZELS|BAG SNACKS|\n",
      "+----------+-----+--------------------+----------+\n",
      "only showing top 3 rows\n",
      "\n"
     ]
    }
   ],
   "source": [
    "spark.sql(\"\"\"\n",
    "    SELECT\n",
    "        products.upc\n",
    "        , price\n",
    "        , description\n",
    "        , category\n",
    "        \n",
    "    FROM transaction\n",
    "    JOIN products\n",
    "    ON\n",
    "        transaction.upc = products.upc\n",
    "\"\"\").show(3)"
   ]
  },
  {
   "cell_type": "code",
   "execution_count": 16,
   "id": "4cef191b-c593-4de4-aca2-087783ef2e5a",
   "metadata": {},
   "outputs": [
    {
     "name": "stdout",
     "output_type": "stream",
     "text": [
      "+----------+----------+----------+--------------------+----------+\n",
      "|       upc|min(price)|max(price)|         description|  category|\n",
      "+----------+----------+----------+--------------------+----------+\n",
      "|1111009477|      0.89|      1.83|PL MINI TWIST PRE...|BAG SNACKS|\n",
      "|1111009497|      0.86|      1.69|   PL PRETZEL STICKS|BAG SNACKS|\n",
      "|1111009507|       0.8|      1.69|   PL TWIST PRETZELS|BAG SNACKS|\n",
      "+----------+----------+----------+--------------------+----------+\n",
      "only showing top 3 rows\n",
      "\n"
     ]
    }
   ],
   "source": [
    "spark.sql(\"\"\"\n",
    "    SELECT\n",
    "        products.upc\n",
    "        , min (price)\n",
    "        , max (price)\n",
    "        , description\n",
    "        , category\n",
    "        \n",
    "    FROM transaction\n",
    "    JOIN products\n",
    "    ON\n",
    "        transaction.upc = products.upc\n",
    "    GROUP BY\n",
    "        1, 4, 5\n",
    "\"\"\").show(3)"
   ]
  },
  {
   "cell_type": "code",
   "execution_count": 17,
   "id": "4945ce15-0f91-498b-b553-36e0af297a81",
   "metadata": {},
   "outputs": [
    {
     "name": "stdout",
     "output_type": "stream",
     "text": [
      "+----------+------------+-----+\n",
      "|       upc|product_size|is_oz|\n",
      "+----------+------------+-----+\n",
      "|1111009477|       15 OZ|  yes|\n",
      "|1111009497|       15 OZ|  yes|\n",
      "|1111009507|       15 OZ|  yes|\n",
      "|1111035398|      1.5 LT| null|\n",
      "|1111038078|      500 ML| null|\n",
      "|1111038080|      500 ML| null|\n",
      "|1111085319|    12.25 OZ|  yes|\n",
      "|1111085345|       20 OZ|  yes|\n",
      "|1111085350|       18 OZ|  yes|\n",
      "|1111087395|     32.7 OZ|  yes|\n",
      "+----------+------------+-----+\n",
      "only showing top 10 rows\n",
      "\n"
     ]
    }
   ],
   "source": [
    "spark.sql(\"\"\"\n",
    "    SELECT\n",
    "        upc\n",
    "        , product_size\n",
    "        , CASE\n",
    "            WHEN CONTAINS(product_size, 'OZ') THEN 'yes'\n",
    "        END AS is_oz\n",
    "        \n",
    "    FROM products\n",
    "\"\"\").show(10)"
   ]
  },
  {
   "cell_type": "code",
   "execution_count": null,
   "id": "ed22f294-ed1c-46a7-aa4e-eafa76993910",
   "metadata": {},
   "outputs": [],
   "source": []
  }
 ],
 "metadata": {
  "kernelspec": {
   "display_name": "Python 3 (ipykernel)",
   "language": "python",
   "name": "python3"
  },
  "language_info": {
   "codemirror_mode": {
    "name": "ipython",
    "version": 3
   },
   "file_extension": ".py",
   "mimetype": "text/x-python",
   "name": "python",
   "nbconvert_exporter": "python",
   "pygments_lexer": "ipython3",
   "version": "3.10.6"
  }
 },
 "nbformat": 4,
 "nbformat_minor": 5
}

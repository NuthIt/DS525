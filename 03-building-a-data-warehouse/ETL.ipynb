{
 "cells": [
  {
   "cell_type": "code",
   "execution_count": 10,
   "id": "26ddf902",
   "metadata": {
    "ExecuteTime": {
     "end_time": "2022-10-07T20:48:53.036659Z",
     "start_time": "2022-10-07T20:48:45.526779Z"
    }
   },
   "outputs": [],
   "source": [
    "import psycopg2\n",
    "\n",
    "\n",
    "drop_table_queries = [\n",
    "    \"DROP TABLE IF EXISTS events\",\n",
    "]\n",
    "create_table_queries = [\n",
    "    \"\"\"\n",
    "    CREATE TABLE IF NOT EXISTS staging_events (\n",
    "        id text,\n",
    "        type text,\n",
    "        actor text,\n",
    "        repo text,\n",
    "        created_at text\n",
    "    )\n",
    "    \"\"\",\n",
    "    \"\"\"\n",
    "    CREATE TABLE IF NOT EXISTS events (\n",
    "        id text\n",
    "    )\n",
    "    \"\"\",\n",
    "]\n",
    "copy_table_queries = [\n",
    "    \"\"\"\n",
    "    COPY staging_events FROM 's3://ds525project3temp1/github_events_01.json'\n",
    "    CREDENTIALS 'arn:aws:iam::577606338025:role/LabRole'\n",
    "    JSON 's3://ds525project3temp1/events_json_path.json'\n",
    "    REGION 'us-east-1'\n",
    "    \"\"\",\n",
    "]\n",
    "insert_table_queries = [\n",
    "    \"\"\"\n",
    "    INSERT INTO\n",
    "      events (\n",
    "        id\n",
    "      )\n",
    "    SELECT\n",
    "      DISTINCT id\n",
    "    FROM\n",
    "      staging_events\n",
    "    WHERE\n",
    "      id NOT IN (SELECT DISTINCT id FROM events)\n",
    "    \"\"\",\n",
    "]\n",
    "\n",
    "\n",
    "def drop_tables(cur, conn):\n",
    "    for query in drop_table_queries:\n",
    "        cur.execute(query)\n",
    "        conn.commit()\n",
    "\n",
    "\n",
    "def create_tables(cur, conn):\n",
    "    for query in create_table_queries:\n",
    "        cur.execute(query)\n",
    "        conn.commit()\n",
    "\n",
    "\n",
    "def load_staging_tables(cur, conn):\n",
    "    for query in copy_table_queries:\n",
    "        cur.execute(query)\n",
    "        conn.commit()\n",
    "\n",
    "\n",
    "def insert_tables(cur, conn):\n",
    "    for query in insert_table_queries:\n",
    "        cur.execute(query)\n",
    "        conn.commit()\n",
    "\n",
    "\n",
    "def main():\n",
    "    host = \"redshift-cluster-1.czhpksgvzq6o.us-east-1.redshift.amazonaws.com\"\n",
    "    dbname = \"dev\"\n",
    "    user = \"awsuser\"\n",
    "    password = \"dummyPassword123\"\n",
    "    port = \"5439\"\n",
    "    conn_str = f\"host={host} dbname={dbname} user={user} password={password} port={port}\"\n",
    "    conn = psycopg2.connect(conn_str)\n",
    "    cur = conn.cursor()\n",
    "\n",
    "    drop_tables(cur, conn)\n",
    "    create_tables(cur, conn)\n",
    "    load_tables(cur, conn)\n",
    "    insert_tables(cur, conn)\n",
    "\n",
    "    conn.close()\n",
    "\n",
    "\n",
    "if __name__ == \"__main__\":\n",
    "    main()"
   ]
  },
  {
   "cell_type": "code",
   "execution_count": null,
   "id": "aea1b18f",
   "metadata": {},
   "outputs": [],
   "source": []
  }
 ],
 "metadata": {
  "kernelspec": {
   "display_name": "Python 3 (ipykernel)",
   "language": "python",
   "name": "python3"
  },
  "language_info": {
   "codemirror_mode": {
    "name": "ipython",
    "version": 3
   },
   "file_extension": ".py",
   "mimetype": "text/x-python",
   "name": "python",
   "nbconvert_exporter": "python",
   "pygments_lexer": "ipython3",
   "version": "3.10.4"
  },
  "varInspector": {
   "cols": {
    "lenName": 16,
    "lenType": 16,
    "lenVar": 40
   },
   "kernels_config": {
    "python": {
     "delete_cmd_postfix": "",
     "delete_cmd_prefix": "del ",
     "library": "var_list.py",
     "varRefreshCmd": "print(var_dic_list())"
    },
    "r": {
     "delete_cmd_postfix": ") ",
     "delete_cmd_prefix": "rm(",
     "library": "var_list.r",
     "varRefreshCmd": "cat(var_dic_list()) "
    }
   },
   "types_to_exclude": [
    "module",
    "function",
    "builtin_function_or_method",
    "instance",
    "_Feature"
   ],
   "window_display": false
  }
 },
 "nbformat": 4,
 "nbformat_minor": 5
}
